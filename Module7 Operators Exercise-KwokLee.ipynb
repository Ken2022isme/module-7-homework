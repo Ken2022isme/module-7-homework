{
 "cells": [
  {
   "cell_type": "markdown",
   "metadata": {},
   "source": [
    "### Exercise 1\n",
    "Ask a user to enter a number. If the number is positive, print <b>Positive number</b>. Otherwise, do not print any message. Finally, print 'goodbye' message at the end."
   ]
  },
  {
   "cell_type": "code",
   "execution_count": null,
   "metadata": {},
   "outputs": [],
   "source": [
    "num=int(input(\"Please enter a number: \"))\n",
    "if num >0:\n",
    "    print(\"Positive number\")\n",
    "print(\"goodbye\")"
   ]
  },
  {
   "cell_type": "markdown",
   "metadata": {},
   "source": [
    "### Exercise 2\n",
    "Ask for a code and store that answer. \n",
    "If the answer is grey then print out if you found secret code.\n",
    "Otherwise print out the code is not the secret code."
   ]
  },
  {
   "cell_type": "code",
   "execution_count": null,
   "metadata": {},
   "outputs": [],
   "source": [
    "code=input(\"Please enter a code: \")\n",
    "if code =='grey':\n",
    "    print(\"Secret code found\")\n",
    "else:\n",
    "    print(\"Code entered is not the secret code\")"
   ]
  },
  {
   "cell_type": "markdown",
   "metadata": {},
   "source": [
    "### Exercise 3\n",
    "\n",
    "Ask a user to enter a phrase. If the word contains a number, display the \"Number found\" message. Otherwise, show the \"Number not found\" message. "
   ]
  },
  {
   "cell_type": "code",
   "execution_count": 6,
   "metadata": {},
   "outputs": [
    {
     "name": "stdout",
     "output_type": "stream",
     "text": [
      "Please enter a phrase: gargage\n",
      "Number not found\n"
     ]
    }
   ],
   "source": [
    "phrase=input(\"Please enter a phrase: \")\n",
    "\n",
    "has0='0' in phrase\n",
    "has1='1' in phrase\n",
    "has2='2' in phrase\n",
    "has3='3' in phrase\n",
    "has4='4' in phrase\n",
    "has5='5' in phrase\n",
    "has6='6' in phrase\n",
    "has7='7' in phrase\n",
    "has8='8' in phrase\n",
    "has9='9' in phrase\n",
    "if has0 or has1 or has2 or has3 or has4 or has5 or has6 or has7 or has8 or has9:\n",
    "    print(\"Number found\")\n",
    "else:\n",
    "    print(\"Number not found\")\n"
   ]
  },
  {
   "cell_type": "markdown",
   "metadata": {},
   "source": [
    "### Exercise 4\n",
    "\n",
    "Ask a user to enter a number. Then, only if the number is divisible by 2 and 3, show the result of the number divided by two and three in a formated string. The output should look something like this:\n",
    "        \n",
    "    Enter a number: 2\n",
    "    Bye    \n",
    "    \n",
    "    Enter a number: 60\n",
    "    60 / 2 = 30.0\n",
    "    60 / 3 = 20.0\n",
    "    Bye\n",
    "    \n",
    "    Enter a number: 3\n",
    "    Bye\n",
    "    \n",
    "    Enter a number: 10\n",
    "    Bye    "
   ]
  },
  {
   "cell_type": "code",
   "execution_count": 17,
   "metadata": {},
   "outputs": [
    {
     "name": "stdout",
     "output_type": "stream",
     "text": [
      "Please enter a number: 60\n",
      "60 / 2 = 30.0\n",
      "60 / 3 = 20.0\n",
      "bye\n"
     ]
    }
   ],
   "source": [
    "num = int(input(\"Please enter a number: \"))\n",
    "div2 = num%2\n",
    "div3 = num%3\n",
    "\n",
    "if div2==0 and div3==0:\n",
    "    print(f\"{num} / 2 = {num/2:.1f}\")\n",
    "    print(f\"{num} / 3 = {num/3:.1f}\")\n",
    "print(\"bye\")\n"
   ]
  },
  {
   "cell_type": "markdown",
   "metadata": {},
   "source": [
    "### Exercise 5\n",
    "Ask a user to enter a number. Determine if the number is zero, positive or negative. Use only <b>if</b> and <b>else</b> statements. \n",
    "    "
   ]
  },
  {
   "cell_type": "code",
   "execution_count": 26,
   "metadata": {},
   "outputs": [
    {
     "name": "stdout",
     "output_type": "stream",
     "text": [
      "Please enter a number: -45\n",
      "Number is less than zero\n"
     ]
    }
   ],
   "source": [
    "num = int(input(\"Please enter a number: \"))\n",
    "if num >0:\n",
    "    result=True\n",
    "    print(\"Number is greater than zero\")\n",
    "else:\n",
    "    result=False\n",
    "\n",
    "if result==False:\n",
    "    if num ==0:\n",
    "        print(\"Number is zero\")\n",
    "    else:\n",
    "        print(\"Number is less than zero\")\n",
    "\n"
   ]
  }
 ],
 "metadata": {
  "kernelspec": {
   "display_name": "Python 3",
   "language": "python",
   "name": "python3"
  },
  "language_info": {
   "codemirror_mode": {
    "name": "ipython",
    "version": 3
   },
   "file_extension": ".py",
   "mimetype": "text/x-python",
   "name": "python",
   "nbconvert_exporter": "python",
   "pygments_lexer": "ipython3",
   "version": "3.7.6"
  }
 },
 "nbformat": 4,
 "nbformat_minor": 4
}
